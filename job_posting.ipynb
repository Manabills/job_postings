{
 "cells": [
  {
   "cell_type": "code",
   "execution_count": null,
   "metadata": {},
   "outputs": [],
   "source": [
    "import warnings\n",
    "warnings.filterwarnings(\"ignore\")\n",
    "from bs4 import BeautifulSoup\n",
    "import requests\n",
    "import re\n",
    "import pandas as pd\n",
    "import matplotlib.pyplot as plt\n",
    "import seaborn as sns\n",
    "%matplotlib inline\n",
    "plt.rcParams['font.size'] = 12"
   ]
  },
  {
   "cell_type": "code",
   "execution_count": null,
   "metadata": {},
   "outputs": [],
   "source": [
    "url = 'https://www.shine.com/job-search/jobs?job_type=2&top_companies_boost=true&sort=1'\n",
    "response = requests.get(url)\n",
    "response"
   ]
  },
  {
   "cell_type": "code",
   "execution_count": null,
   "metadata": {},
   "outputs": [],
   "source": [
    "soup = BeautifulSoup(response.text,'html.parser')\n",
    "html = soup.find_all('div')"
   ]
  },
  {
   "cell_type": "code",
   "execution_count": null,
   "metadata": {},
   "outputs": [],
   "source": [
    "req = soup.select('div h2[itemprop=\"name\"]')\n",
    "titles = [r.text for r in req]\n",
    "titles[:5]"
   ]
  },
  {
   "cell_type": "code",
   "execution_count": null,
   "metadata": {},
   "outputs": [],
   "source": [
    "titles1 = [t.replace(\"|\",\"\") for t in titles]\n",
    "titles = [t.replace(\"  \", \"\") for t in titles1]\n",
    "titles[:5]"
   ]
  },
  {
   "cell_type": "code",
   "execution_count": null,
   "metadata": {},
   "outputs": [],
   "source": [
    "orgs = soup.find_all('div', class_='jobCard_jobCard_cName__mYnow')\n",
    "orgs1 = [o.text for o in orgs]\n",
    "[o for o in orgs1][:5]"
   ]
  },
  {
   "cell_type": "code",
   "execution_count": null,
   "metadata": {},
   "outputs": [],
   "source": [
    "sub_str = \"Hiring\"\n",
    "[o.split(sub_str)[0] for o in orgs1][:5]"
   ]
  },
  {
   "cell_type": "code",
   "execution_count": null,
   "metadata": {},
   "outputs": [],
   "source": [
    "companies = [o.split(sub_str)[0] for o in orgs1]\n",
    "companies[:5]"
   ]
  },
  {
   "cell_type": "code",
   "execution_count": null,
   "metadata": {},
   "outputs": [],
   "source": [
    "loc = soup.find_all('div', class_='jobCard_jobCard_lists__fdnsc')"
   ]
  },
  {
   "cell_type": "code",
   "execution_count": null,
   "metadata": {},
   "outputs": [],
   "source": [
    "[l.text[10:] for l in loc]"
   ]
  },
  {
   "cell_type": "code",
   "execution_count": null,
   "metadata": {},
   "outputs": [],
   "source": [
    "loc1 = [l.text[10:] for l in loc]"
   ]
  },
  {
   "cell_type": "code",
   "execution_count": null,
   "metadata": {},
   "outputs": [],
   "source": [
    "[l.replace(\"+\", \",\") for l in loc1][:5]"
   ]
  },
  {
   "cell_type": "code",
   "execution_count": null,
   "metadata": {},
   "outputs": [],
   "source": [
    "loc2 = [l.replace(\"+\", \",\") for l in loc1]"
   ]
  },
  {
   "cell_type": "code",
   "execution_count": null,
   "metadata": {},
   "outputs": [],
   "source": [
    "pattern  = r'[0-9]'\n",
    "strpattern = r'[a-z]'"
   ]
  },
  {
   "cell_type": "code",
   "execution_count": null,
   "metadata": {},
   "outputs": [],
   "source": [
    "[re.sub(pattern, '', l) for l in loc2][:5]"
   ]
  },
  {
   "cell_type": "code",
   "execution_count": null,
   "metadata": {},
   "outputs": [],
   "source": [
    "location = [re.sub(pattern, '', l) for l in loc2]"
   ]
  },
  {
   "cell_type": "code",
   "execution_count": null,
   "metadata": {},
   "outputs": [],
   "source": [
    "location[:5]"
   ]
  },
  {
   "cell_type": "code",
   "execution_count": null,
   "metadata": {},
   "outputs": [],
   "source": [
    "[l.text[:10] for l in loc][:5]"
   ]
  },
  {
   "cell_type": "code",
   "execution_count": null,
   "metadata": {},
   "outputs": [],
   "source": [
    "experience = [l.text[:10] for l in loc]"
   ]
  },
  {
   "cell_type": "code",
   "execution_count": null,
   "metadata": {},
   "outputs": [],
   "source": [
    "experience[:5]"
   ]
  },
  {
   "cell_type": "code",
   "execution_count": null,
   "metadata": {},
   "outputs": [],
   "source": [
    "vacancies = soup.find_all('ul', class_='jobCard_jobCard_jobDetail__jD82J')"
   ]
  },
  {
   "cell_type": "code",
   "execution_count": null,
   "metadata": {},
   "outputs": [],
   "source": [
    "[v.text.split(\"Positions\")[0] for v in vacancies ][:10]"
   ]
  },
  {
   "cell_type": "code",
   "execution_count": null,
   "metadata": {},
   "outputs": [],
   "source": [
    "[v.text.split(\"Positions\")[0][-3:-1] for v in vacancies ][:10]"
   ]
  },
  {
   "cell_type": "code",
   "execution_count": null,
   "metadata": {},
   "outputs": [],
   "source": [
    "vac = [v.text.split(\"Positions\")[0][-3:] for v in vacancies ]\n",
    "vac = [v.replace('la', '1') for v in vac]\n",
    "vac = [re.sub(strpattern, '', l) for l in vac]"
   ]
  },
  {
   "cell_type": "code",
   "execution_count": null,
   "metadata": {},
   "outputs": [],
   "source": [
    "vacancies= [v.replace(' ','') for v in vac]"
   ]
  },
  {
   "cell_type": "code",
   "execution_count": null,
   "metadata": {},
   "outputs": [],
   "source": [
    "vacancies[:5]"
   ]
  },
  {
   "cell_type": "code",
   "execution_count": null,
   "metadata": {},
   "outputs": [],
   "source": [
    "df = pd.DataFrame({'Titles':titles, 'Firm Name': companies, 'Job Location':location, 'Experience':experience,\n",
    "                   'Positions': vacancies})"
   ]
  },
  {
   "cell_type": "code",
   "execution_count": null,
   "metadata": {},
   "outputs": [],
   "source": [
    "df.head()"
   ]
  },
  {
   "cell_type": "code",
   "execution_count": null,
   "metadata": {},
   "outputs": [],
   "source": [
    "df['Titles'].duplicated().sum()"
   ]
  },
  {
   "cell_type": "code",
   "execution_count": null,
   "metadata": {},
   "outputs": [],
   "source": [
    "df = df.drop_duplicates(subset=['Titles'])"
   ]
  },
  {
   "cell_type": "code",
   "execution_count": null,
   "metadata": {},
   "outputs": [],
   "source": [
    "df.head()"
   ]
  },
  {
   "cell_type": "code",
   "execution_count": null,
   "metadata": {},
   "outputs": [],
   "source": [
    "\n",
    "df['Positions'] = df['Positions'].astype('int32')\n",
    "\n",
    "numpattern = r'[0]'\n",
    "df['Category'] = ['Fresher' if '0' in i else 'Experienced' for i in df['Experience']]"
   ]
  },
  {
   "cell_type": "code",
   "execution_count": null,
   "metadata": {},
   "outputs": [],
   "source": [
    "df.sort_values(by='Positions', ascending=False)"
   ]
  },
  {
   "cell_type": "code",
   "execution_count": null,
   "metadata": {},
   "outputs": [],
   "source": [
    "TITLES = []\n",
    "COMPANIES = []\n",
    "LOCATIONS = []\n",
    "EXPERIENCE = []\n",
    "VACANCIES = []\n",
    "\n",
    "for i in range(1,6):\n",
    "    link = f'https://www.shine.com/job-search/jobs-{i}?job_type=2&top_companies_boost=true&sort=1'\n",
    "    response = requests.get(link)\n",
    "\n",
    "    if response.status_code == 200:\n",
    "        soup = BeautifulSoup(response.content, 'html.parser')\n",
    "\n",
    "        req = soup.select('div h2[itemprop=\"name\"]')\n",
    "        titles = [r.text for r in req]\n",
    "        titles1 = [t.replace(\"|\",\"\") for t in titles]\n",
    "        titles = [t.replace(\"  \", \"\") for t in titles1]\n",
    "        TITLES.extend(titles)\n",
    "        \n",
    "        orgs = soup.find_all('div', class_='jobCard_jobCard_cName__mYnow')\n",
    "        orgs1 = [o.text for o in orgs]\n",
    "        sub_str = \"Hiring\"\n",
    "        companies = [o.split(sub_str)[0] for o in orgs1]\n",
    "        COMPANIES.extend(companies) \n",
    "        \n",
    "        loc = soup.find_all('div', class_='jobCard_jobCard_lists__fdnsc')\n",
    "        loc1 = [l.text[10:] for l in loc]\n",
    "        loc2 = [l.replace(\"+\", \",\") for l in loc1]\n",
    "        pattern  = r'[0-9]'\n",
    "        strpattern = r'[a-z]'\n",
    "        location = [re.sub(pattern, '', l) for l in loc2]\n",
    "        LOCATIONS.extend(location)\n",
    "        \n",
    "        experience = [l.text[:10] for l in loc]\n",
    "        EXPERIENCE.extend(experience)  \n",
    "        \n",
    "        vacancies = soup.find_all('ul', class_='jobCard_jobCard_jobDetail__jD82J')\n",
    "        vac = [v.text.split(\"Positions\")[0][-3:] for v in vacancies ]\n",
    "        vac = [v.replace('la', '1') for v in vac]\n",
    "        vac = [re.sub(strpattern, '', l) for l in vac]\n",
    "        vacancies= [v.replace(' ','') for v in vac]\n",
    "        VACANCIES.extend(vacancies)\n",
    "        \n",
    "    else:\n",
    "        print('Invalid Response')\n",
    "\n",
    "df = pd.DataFrame({'Job Title': TITLES, \n",
    "                   'Employer': COMPANIES,\n",
    "                   'Job Location': LOCATIONS, \n",
    "                   'Experience': EXPERIENCE, \n",
    "                   'Positions': VACANCIES})"
   ]
  },
  {
   "cell_type": "code",
   "execution_count": null,
   "metadata": {},
   "outputs": [],
   "source": [
    "df.head()"
   ]
  },
  {
   "cell_type": "code",
   "execution_count": null,
   "metadata": {},
   "outputs": [],
   "source": [
    "df = df.drop_duplicates(subset=['Job Title'])"
   ]
  },
  {
   "cell_type": "code",
   "execution_count": null,
   "metadata": {},
   "outputs": [],
   "source": [
    "df.Positions = pd.to_numeric(df.Positions)"
   ]
  },
  {
   "cell_type": "code",
   "execution_count": null,
   "metadata": {},
   "outputs": [],
   "source": [
    "plt.figure(figsize=(22,5), dpi=100)\n",
    "ax = sns.barplot(x=df['Employer'][:10], y=df['Positions'][:10])\n",
    "plt.gca().spines['top'].set_visible(False)\n",
    "plt.gca().spines['right'].set_visible(False)\n",
    "plt.title('Firm Wise vacancy count', fontsize=20)\n",
    "plt.axhline(df.Positions.mean(), color='red')\n",
    "\n",
    "#Annotating each bar\n",
    "for bar in ax.patches:\n",
    "    ax.annotate(format(bar.get_height(), '.0f'),(bar.get_x() + bar.get_width() / 2,bar.get_height()), \n",
    "                 ha='center', va='center',size=15, xytext=(0, 8),textcoords='offset points')\n",
    "\n",
    "#coloring each bar based on a condition if the bar value is greator or less than count of positions for a given firm \n",
    "for i in range(len(ax.patches)):\n",
    "    #getting the count of each bar\n",
    "    counts = [p.get_height() for p in ax.patches]\n",
    "    #getting the colors based on the condition for each bar\n",
    "    colors = ['#38A7D0' if j > df.Positions.mean() else '#F67088' for j in counts]\n",
    "    #passing the color for each bar\n",
    "    ax.patches[i].set_facecolor(colors[i])  \n",
    "    \n",
    "plt.xticks(rotation=45)\n",
    "plt.show()"
   ]
  },
  {
   "cell_type": "code",
   "execution_count": null,
   "metadata": {},
   "outputs": [],
   "source": [
    "palette = ['#38A7D0', '#F67088']\n",
    "plt.figure(figsize=(22,5), dpi=100)\n",
    "ax = sns.countplot(data =df,x=df['Experience'][:10], hue=df['Experience'][:10], dodge=False, palette=palette)\n",
    "for bar in ax.patches:\n",
    "    ax.annotate(format(bar.get_height(), '.0f'),(bar.get_x() + bar.get_width() / 2,bar.get_height()), \n",
    "                 ha='center', va='center',size=15, xytext=(0, 8),textcoords='offset points')\n",
    "plt.gca().spines['top'].set_visible(False)\n",
    "plt.gca().spines['right'].set_visible(False)\n",
    "plt.title('Category Count Plot', fontsize=20)\n",
    "plt.show()"
   ]
  }
 ],
 "metadata": {
  "language_info": {
   "name": "python"
  },
  "orig_nbformat": 4
 },
 "nbformat": 4,
 "nbformat_minor": 2
}
